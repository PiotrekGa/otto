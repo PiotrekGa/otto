{
 "cells": [
  {
   "cell_type": "code",
   "execution_count": 1,
   "metadata": {},
   "outputs": [],
   "source": [
    "import polars as pl\n",
    "import numpy as np\n",
    "import scipy\n",
    "from implicit.nearest_neighbours import bm25_weight\n",
    "from implicit.bpr import BayesianPersonalizedRanking\n",
    "from evaluate import evaluate\n",
    "from time import sleep"
   ]
  },
  {
   "cell_type": "code",
   "execution_count": 3,
   "metadata": {},
   "outputs": [],
   "source": [
    "class self:\n",
    "    data_path = '../data/'\n",
    "    add_train = True\n",
    "    fold = 'valid2__'\n",
    "    mapper = {0: 1, 1: 6, 2: 9}\n",
    "    max_cands = 20\n",
    "    name = 'bpr'"
   ]
  },
  {
   "cell_type": "code",
   "execution_count": 4,
   "metadata": {},
   "outputs": [
    {
     "data": {
      "application/vnd.jupyter.widget-view+json": {
       "model_id": "d0df19c4c7c44318bcb73f4f18d6c0e9",
       "version_major": 2,
       "version_minor": 0
      },
      "text/plain": [
       "  0%|          | 0/100 [00:00<?, ?it/s]"
      ]
     },
     "metadata": {},
     "output_type": "display_data"
    }
   ],
   "source": [
    "if self.add_train:\n",
    "    df1 = pl.read_parquet(\n",
    "        f'{self.data_path}raw/{self.fold}test.parquet')\n",
    "    df2 = pl.read_parquet(\n",
    "        f'{self.data_path}raw/{self.fold}train.parquet')\n",
    "    df1 = df1.with_column(pl.lit(1, pl.Int8).alias('test'))\n",
    "    df2 = df2.with_column(pl.lit(0, pl.Int8).alias('test'))\n",
    "    df = pl.concat([df1, df2], how='vertical')\n",
    "    del df1, df2\n",
    "else:\n",
    "    df = pl.read_parquet(\n",
    "        f'{self.data_path}raw/{self.fold}test.parquet')\n",
    "    df = df.with_column(pl.lit(1, pl.Int8).alias('test'))\n",
    "\n",
    "df = df.drop('ts')\n",
    "df = df.with_column(pl.col('type').apply(lambda x: self.mapper[x]))\n",
    "df = df.groupby(['session', 'aid', 'test']).sum()\n",
    "\n",
    "aid_cnt = df.groupby('aid').agg(\n",
    "    pl.col('session').n_unique().alias('cnt'))\n",
    "aid_cnt = aid_cnt.filter(pl.col('cnt') >= 0)\n",
    "df = df.join(aid_cnt, on='aid').drop('cnt')\n",
    "del aid_cnt\n",
    "df = df.with_column(\n",
    "    (pl.col('session').rank('dense') - 1).alias('session_idx'))\n",
    "df = df.with_column((pl.col('aid').rank('dense') - 1).alias('aid_idx'))\n",
    "values = df.select(pl.col('type')).to_numpy().ravel()\n",
    "session_idx = df.select(pl.col('session_idx')).to_numpy().ravel()\n",
    "aid_idx = df.select(pl.col('aid_idx')).to_numpy().ravel()\n",
    "aid_session = scipy.sparse.coo_matrix((values, (aid_idx, session_idx)), shape=(np.unique(aid_idx).shape[0],\n",
    "                                                                                np.unique(session_idx).shape[0]))\n",
    "session_idx = np.unique(session_idx)\n",
    "aid_session = aid_session.tocsr()\n",
    "aid_session = bm25_weight(aid_session, K1=100, B=0.8)\n",
    "session_aid = aid_session.T.tocsr()\n",
    "model = BayesianPersonalizedRanking(100)\n",
    "model.fit(session_aid)"
   ]
  },
  {
   "cell_type": "code",
   "execution_count": 5,
   "metadata": {},
   "outputs": [],
   "source": [
    "session_idx = np.unique(df.filter(pl.col('test') == 1).select(\n",
    "    pl.col('session_idx')).to_numpy().ravel())\n",
    "batch_aids, _ = model.recommend(\n",
    "        session_idx, session_aid[session_idx], self.max_cands, filter_already_liked_items=False)"
   ]
  },
  {
   "cell_type": "code",
   "execution_count": 6,
   "metadata": {},
   "outputs": [],
   "source": [
    "batch_aids = batch_aids.ravel().reshape(-1, 1)\n",
    "session_idx = np.repeat(\n",
    "        session_idx, self.max_cands).reshape(-1, 1)\n",
    "result = pl.DataFrame(\n",
    "        np.hstack([session_idx, batch_aids]), columns=['session_idx', 'aid_idx'])\n",
    "\n",
    "result = result.with_column(pl.lit(1).alias('one'))\n",
    "result = result.with_column((pl.col('one').cumsum().over(\n",
    "    'session_idx') - 1).alias(self.name)).drop('one')\n",
    "session_inv = df.select(pl.col(['session', 'session_idx'])).unique()\n",
    "aid_inv = df.select(pl.col(['aid', 'aid_idx'])).unique()\n",
    "\n",
    "session_inv = session_inv.select(pl.col('*').cast(pl.Int32))\n",
    "aid_inv = aid_inv.select(pl.col('*').cast(pl.Int32))\n",
    "result = result.select(pl.col('*').cast(pl.Int32))\n",
    "result = result.join(session_inv, on='session_idx')\n",
    "result = result.join(aid_inv, on='aid_idx')\n",
    "result = result.drop(['session_idx', 'aid_idx'])"
   ]
  },
  {
   "cell_type": "code",
   "execution_count": 7,
   "metadata": {},
   "outputs": [
    {
     "name": "stdout",
     "output_type": "stream",
     "text": [
      "evaluating solution\n"
     ]
    }
   ],
   "source": [
    "reco = result.groupby(\n",
    "    'session').agg(pl.col('aid'))\n",
    "reco_clicks = reco.select([(pl.col('session').cast(str) + pl.lit(f'_clicks')).alias('session_type'), pl.col(\n",
    "            'aid').apply(lambda x: ' '.join([str(i) for i in x[:20]])).alias('labels')])\n",
    "\n",
    "reco_carts = reco_clicks.with_column(pl.col('session_type').str.replace('clicks', 'carts'))\n",
    "reco_orders = reco_clicks.with_column(pl.col('session_type').str.replace('clicks', 'orders'))\n",
    "reco_fin = pl.concat([reco_clicks, reco_carts, reco_orders])\n",
    "\n",
    "reco_fin.write_csv('bpr_test.csv')\n",
    "scores = evaluate(f'../data/raw/valid2__test_labels.jsonl', 'bpr_test.csv')"
   ]
  },
  {
   "cell_type": "code",
   "execution_count": 8,
   "metadata": {},
   "outputs": [
    {
     "data": {
      "text/plain": [
       "{'clicks': 0.09508767104385196,\n",
       " 'carts': 0.07384254139419459,\n",
       " 'orders': 0.09475026259914521,\n",
       " 'total': 0.0885116870821307}"
      ]
     },
     "execution_count": 8,
     "metadata": {},
     "output_type": "execute_result"
    }
   ],
   "source": [
    "scores"
   ]
  },
  {
   "cell_type": "code",
   "execution_count": 2,
   "metadata": {},
   "outputs": [],
   "source": [
    "class self:\n",
    "    data_path = '../data/'\n",
    "    add_train = True\n",
    "    fold = 'valid2__'\n",
    "    mapper = {0: 1, 1: 2, 2: 3}\n",
    "    max_cands = 20\n",
    "    name = 'bpr'"
   ]
  },
  {
   "cell_type": "code",
   "execution_count": 3,
   "metadata": {},
   "outputs": [
    {
     "data": {
      "application/vnd.jupyter.widget-view+json": {
       "model_id": "15a05dc7728a47c796a373e899917a5e",
       "version_major": 2,
       "version_minor": 0
      },
      "text/plain": [
       "  0%|          | 0/100 [00:00<?, ?it/s]"
      ]
     },
     "metadata": {},
     "output_type": "display_data"
    }
   ],
   "source": [
    "if self.add_train:\n",
    "    df1 = pl.read_parquet(\n",
    "        f'{self.data_path}raw/{self.fold}test.parquet')\n",
    "    df2 = pl.read_parquet(\n",
    "        f'{self.data_path}raw/{self.fold}train.parquet')\n",
    "    df1 = df1.with_column(pl.lit(1, pl.Int8).alias('test'))\n",
    "    df2 = df2.with_column(pl.lit(0, pl.Int8).alias('test'))\n",
    "    df = pl.concat([df1, df2], how='vertical')\n",
    "    del df1, df2\n",
    "else:\n",
    "    df = pl.read_parquet(\n",
    "        f'{self.data_path}raw/{self.fold}test.parquet')\n",
    "    df = df.with_column(pl.lit(1, pl.Int8).alias('test'))\n",
    "\n",
    "df = df.drop('ts')\n",
    "df = df.with_column(pl.col('type').apply(lambda x: self.mapper[x]))\n",
    "df = df.groupby(['session', 'aid', 'test']).max()\n",
    "\n",
    "aid_cnt = df.groupby('aid').agg(\n",
    "    pl.col('session').n_unique().alias('cnt'))\n",
    "aid_cnt = aid_cnt.filter(pl.col('cnt') >= 0)\n",
    "df = df.join(aid_cnt, on='aid').drop('cnt')\n",
    "del aid_cnt\n",
    "df = df.with_column(\n",
    "    (pl.col('session').rank('dense') - 1).alias('session_idx'))\n",
    "df = df.with_column((pl.col('aid').rank('dense') - 1).alias('aid_idx'))\n",
    "values = df.select(pl.col('type')).to_numpy().ravel()\n",
    "session_idx = df.select(pl.col('session_idx')).to_numpy().ravel()\n",
    "aid_idx = df.select(pl.col('aid_idx')).to_numpy().ravel()\n",
    "aid_session = scipy.sparse.coo_matrix((values, (aid_idx, session_idx)), shape=(np.unique(aid_idx).shape[0],\n",
    "                                                                                np.unique(session_idx).shape[0]))\n",
    "session_idx = np.unique(session_idx)\n",
    "aid_session = aid_session.tocsr()\n",
    "aid_session = bm25_weight(aid_session, K1=100, B=0.8)\n",
    "session_aid = aid_session.T.tocsr()\n",
    "model = BayesianPersonalizedRanking(100)\n",
    "model.fit(session_aid)"
   ]
  },
  {
   "cell_type": "code",
   "execution_count": 4,
   "metadata": {},
   "outputs": [],
   "source": [
    "session_idx = np.unique(df.filter(pl.col('test') == 1).select(\n",
    "    pl.col('session_idx')).to_numpy().ravel())\n",
    "batch_aids, _ = model.recommend(\n",
    "        session_idx, session_aid[session_idx], self.max_cands, filter_already_liked_items=False)"
   ]
  },
  {
   "cell_type": "code",
   "execution_count": 5,
   "metadata": {},
   "outputs": [],
   "source": [
    "batch_aids = batch_aids.ravel().reshape(-1, 1)\n",
    "session_idx = np.repeat(\n",
    "        session_idx, self.max_cands).reshape(-1, 1)\n",
    "result = pl.DataFrame(\n",
    "        np.hstack([session_idx, batch_aids]), columns=['session_idx', 'aid_idx'])\n",
    "\n",
    "result = result.with_column(pl.lit(1).alias('one'))\n",
    "result = result.with_column((pl.col('one').cumsum().over(\n",
    "    'session_idx') - 1).alias(self.name)).drop('one')\n",
    "session_inv = df.select(pl.col(['session', 'session_idx'])).unique()\n",
    "aid_inv = df.select(pl.col(['aid', 'aid_idx'])).unique()\n",
    "\n",
    "session_inv = session_inv.select(pl.col('*').cast(pl.Int32))\n",
    "aid_inv = aid_inv.select(pl.col('*').cast(pl.Int32))\n",
    "result = result.select(pl.col('*').cast(pl.Int32))\n",
    "result = result.join(session_inv, on='session_idx')\n",
    "result = result.join(aid_inv, on='aid_idx')\n",
    "result = result.drop(['session_idx', 'aid_idx'])"
   ]
  },
  {
   "cell_type": "code",
   "execution_count": 6,
   "metadata": {},
   "outputs": [
    {
     "name": "stdout",
     "output_type": "stream",
     "text": [
      "evaluating solution\n"
     ]
    }
   ],
   "source": [
    "reco = result.groupby(\n",
    "    'session').agg(pl.col('aid'))\n",
    "reco_clicks = reco.select([(pl.col('session').cast(str) + pl.lit(f'_clicks')).alias('session_type'), pl.col(\n",
    "            'aid').apply(lambda x: ' '.join([str(i) for i in x[:20]])).alias('labels')])\n",
    "\n",
    "reco_carts = reco_clicks.with_column(pl.col('session_type').str.replace('clicks', 'carts'))\n",
    "reco_orders = reco_clicks.with_column(pl.col('session_type').str.replace('clicks', 'orders'))\n",
    "reco_fin = pl.concat([reco_clicks, reco_carts, reco_orders])\n",
    "\n",
    "reco_fin.write_csv('bpr_test.csv')\n",
    "scores = evaluate(f'../data/raw/valid2__test_labels.jsonl', 'bpr_test.csv')"
   ]
  },
  {
   "cell_type": "code",
   "execution_count": 7,
   "metadata": {},
   "outputs": [
    {
     "data": {
      "text/plain": [
       "{'clicks': 0.0959503279994925,\n",
       " 'carts': 0.07467856293322539,\n",
       " 'orders': 0.0953066484365059,\n",
       " 'total': 0.0891825907418204}"
      ]
     },
     "execution_count": 7,
     "metadata": {},
     "output_type": "execute_result"
    }
   ],
   "source": [
    "scores"
   ]
  },
  {
   "cell_type": "code",
   "execution_count": 8,
   "metadata": {},
   "outputs": [],
   "source": [
    "class self:\n",
    "    data_path = '../data/'\n",
    "    add_train = True\n",
    "    fold = 'valid2__'\n",
    "    mapper = {0: 1, 1: 2, 2: 3}\n",
    "    max_cands = 20\n",
    "    name = 'bpr'"
   ]
  },
  {
   "cell_type": "code",
   "execution_count": 9,
   "metadata": {},
   "outputs": [
    {
     "data": {
      "application/vnd.jupyter.widget-view+json": {
       "model_id": "ddaa96e686d74ec98e3bd0c1713a9a3d",
       "version_major": 2,
       "version_minor": 0
      },
      "text/plain": [
       "  0%|          | 0/100 [00:00<?, ?it/s]"
      ]
     },
     "metadata": {},
     "output_type": "display_data"
    }
   ],
   "source": [
    "if self.add_train:\n",
    "    df1 = pl.read_parquet(\n",
    "        f'{self.data_path}raw/{self.fold}test.parquet')\n",
    "    df2 = pl.read_parquet(\n",
    "        f'{self.data_path}raw/{self.fold}train.parquet')\n",
    "    df1 = df1.with_column(pl.lit(1, pl.Int8).alias('test'))\n",
    "    df2 = df2.with_column(pl.lit(0, pl.Int8).alias('test'))\n",
    "    df = pl.concat([df1, df2], how='vertical')\n",
    "    del df1, df2\n",
    "else:\n",
    "    df = pl.read_parquet(\n",
    "        f'{self.data_path}raw/{self.fold}test.parquet')\n",
    "    df = df.with_column(pl.lit(1, pl.Int8).alias('test'))\n",
    "\n",
    "df = df.drop('ts')\n",
    "df = df.with_column(pl.col('type').apply(lambda x: self.mapper[x]))\n",
    "df = df.groupby(['session', 'aid', 'test']).max()\n",
    "\n",
    "aid_cnt = df.groupby('aid').agg(\n",
    "    pl.col('session').n_unique().alias('cnt'))\n",
    "aid_cnt = aid_cnt.filter(pl.col('cnt') >= 0)\n",
    "df = df.join(aid_cnt, on='aid').drop('cnt')\n",
    "del aid_cnt\n",
    "df = df.with_column(\n",
    "    (pl.col('session').rank('dense') - 1).alias('session_idx'))\n",
    "df = df.with_column((pl.col('aid').rank('dense') - 1).alias('aid_idx'))\n",
    "values = df.select(pl.col('type')).to_numpy().ravel()\n",
    "session_idx = df.select(pl.col('session_idx')).to_numpy().ravel()\n",
    "aid_idx = df.select(pl.col('aid_idx')).to_numpy().ravel()\n",
    "aid_session = scipy.sparse.coo_matrix((values, (aid_idx, session_idx)), shape=(np.unique(aid_idx).shape[0],\n",
    "                                                                                np.unique(session_idx).shape[0]))\n",
    "session_idx = np.unique(session_idx)\n",
    "aid_session = aid_session.tocsr()\n",
    "# aid_session = bm25_weight(aid_session, K1=100, B=0.8)\n",
    "session_aid = aid_session.T.tocsr()\n",
    "model = BayesianPersonalizedRanking(100)\n",
    "model.fit(session_aid)"
   ]
  },
  {
   "cell_type": "code",
   "execution_count": null,
   "metadata": {},
   "outputs": [],
   "source": [
    "session_idx = np.unique(df.filter(pl.col('test') == 1).select(\n",
    "    pl.col('session_idx')).to_numpy().ravel())\n",
    "batch_aids, _ = model.recommend(\n",
    "        session_idx, session_aid[session_idx], self.max_cands, filter_already_liked_items=False)"
   ]
  },
  {
   "cell_type": "code",
   "execution_count": null,
   "metadata": {},
   "outputs": [],
   "source": [
    "batch_aids = batch_aids.ravel().reshape(-1, 1)\n",
    "session_idx = np.repeat(\n",
    "        session_idx, self.max_cands).reshape(-1, 1)\n",
    "result = pl.DataFrame(\n",
    "        np.hstack([session_idx, batch_aids]), columns=['session_idx', 'aid_idx'])\n",
    "\n",
    "result = result.with_column(pl.lit(1).alias('one'))\n",
    "result = result.with_column((pl.col('one').cumsum().over(\n",
    "    'session_idx') - 1).alias(self.name)).drop('one')\n",
    "session_inv = df.select(pl.col(['session', 'session_idx'])).unique()\n",
    "aid_inv = df.select(pl.col(['aid', 'aid_idx'])).unique()\n",
    "\n",
    "session_inv = session_inv.select(pl.col('*').cast(pl.Int32))\n",
    "aid_inv = aid_inv.select(pl.col('*').cast(pl.Int32))\n",
    "result = result.select(pl.col('*').cast(pl.Int32))\n",
    "result = result.join(session_inv, on='session_idx')\n",
    "result = result.join(aid_inv, on='aid_idx')\n",
    "result = result.drop(['session_idx', 'aid_idx'])"
   ]
  },
  {
   "cell_type": "code",
   "execution_count": null,
   "metadata": {},
   "outputs": [],
   "source": [
    "reco = result.groupby(\n",
    "    'session').agg(pl.col('aid'))\n",
    "reco_clicks = reco.select([(pl.col('session').cast(str) + pl.lit(f'_clicks')).alias('session_type'), pl.col(\n",
    "            'aid').apply(lambda x: ' '.join([str(i) for i in x[:20]])).alias('labels')])\n",
    "\n",
    "reco_carts = reco_clicks.with_column(pl.col('session_type').str.replace('clicks', 'carts'))\n",
    "reco_orders = reco_clicks.with_column(pl.col('session_type').str.replace('clicks', 'orders'))\n",
    "reco_fin = pl.concat([reco_clicks, reco_carts, reco_orders])\n",
    "\n",
    "reco_fin.write_csv('bpr_test.csv')\n",
    "scores = evaluate(f'../data/raw/valid2__test_labels.jsonl', 'bpr_test.csv')"
   ]
  },
  {
   "cell_type": "code",
   "execution_count": null,
   "metadata": {},
   "outputs": [],
   "source": [
    "class self:\n",
    "    data_path = '../data/'\n",
    "    add_train = True\n",
    "    fold = 'valid2__'\n",
    "    mapper = {0: 1, 1: 1, 2: 1}\n",
    "    max_cands = 20\n",
    "    name = 'bpr'"
   ]
  },
  {
   "cell_type": "code",
   "execution_count": null,
   "metadata": {},
   "outputs": [],
   "source": [
    "if self.add_train:\n",
    "    df1 = pl.read_parquet(\n",
    "        f'{self.data_path}raw/{self.fold}test.parquet')\n",
    "    df2 = pl.read_parquet(\n",
    "        f'{self.data_path}raw/{self.fold}train.parquet')\n",
    "    df1 = df1.with_column(pl.lit(1, pl.Int8).alias('test'))\n",
    "    df2 = df2.with_column(pl.lit(0, pl.Int8).alias('test'))\n",
    "    df = pl.concat([df1, df2], how='vertical')\n",
    "    del df1, df2\n",
    "else:\n",
    "    df = pl.read_parquet(\n",
    "        f'{self.data_path}raw/{self.fold}test.parquet')\n",
    "    df = df.with_column(pl.lit(1, pl.Int8).alias('test'))\n",
    "\n",
    "df = df.drop('ts')\n",
    "df = df.with_column(pl.col('type').apply(lambda x: self.mapper[x]))\n",
    "df = df.groupby(['session', 'aid', 'test']).max()\n",
    "\n",
    "aid_cnt = df.groupby('aid').agg(\n",
    "    pl.col('session').n_unique().alias('cnt'))\n",
    "aid_cnt = aid_cnt.filter(pl.col('cnt') >= 0)\n",
    "df = df.join(aid_cnt, on='aid').drop('cnt')\n",
    "del aid_cnt\n",
    "df = df.with_column(\n",
    "    (pl.col('session').rank('dense') - 1).alias('session_idx'))\n",
    "df = df.with_column((pl.col('aid').rank('dense') - 1).alias('aid_idx'))\n",
    "values = df.select(pl.col('type')).to_numpy().ravel()\n",
    "session_idx = df.select(pl.col('session_idx')).to_numpy().ravel()\n",
    "aid_idx = df.select(pl.col('aid_idx')).to_numpy().ravel()\n",
    "aid_session = scipy.sparse.coo_matrix((values, (aid_idx, session_idx)), shape=(np.unique(aid_idx).shape[0],\n",
    "                                                                                np.unique(session_idx).shape[0]))\n",
    "session_idx = np.unique(session_idx)\n",
    "aid_session = aid_session.tocsr()\n",
    "# aid_session = bm25_weight(aid_session, K1=100, B=0.8)\n",
    "session_aid = aid_session.T.tocsr()\n",
    "model = BayesianPersonalizedRanking(100)\n",
    "model.fit(session_aid)"
   ]
  },
  {
   "cell_type": "code",
   "execution_count": null,
   "metadata": {},
   "outputs": [],
   "source": [
    "session_idx = np.unique(df.filter(pl.col('test') == 1).select(\n",
    "    pl.col('session_idx')).to_numpy().ravel())\n",
    "batch_aids, _ = model.recommend(\n",
    "        session_idx, session_aid[session_idx], self.max_cands, filter_already_liked_items=False)"
   ]
  },
  {
   "cell_type": "code",
   "execution_count": null,
   "metadata": {},
   "outputs": [],
   "source": [
    "batch_aids = batch_aids.ravel().reshape(-1, 1)\n",
    "session_idx = np.repeat(\n",
    "        session_idx, self.max_cands).reshape(-1, 1)\n",
    "result = pl.DataFrame(\n",
    "        np.hstack([session_idx, batch_aids]), columns=['session_idx', 'aid_idx'])\n",
    "\n",
    "result = result.with_column(pl.lit(1).alias('one'))\n",
    "result = result.with_column((pl.col('one').cumsum().over(\n",
    "    'session_idx') - 1).alias(self.name)).drop('one')\n",
    "session_inv = df.select(pl.col(['session', 'session_idx'])).unique()\n",
    "aid_inv = df.select(pl.col(['aid', 'aid_idx'])).unique()\n",
    "\n",
    "session_inv = session_inv.select(pl.col('*').cast(pl.Int32))\n",
    "aid_inv = aid_inv.select(pl.col('*').cast(pl.Int32))\n",
    "result = result.select(pl.col('*').cast(pl.Int32))\n",
    "result = result.join(session_inv, on='session_idx')\n",
    "result = result.join(aid_inv, on='aid_idx')\n",
    "result = result.drop(['session_idx', 'aid_idx'])"
   ]
  },
  {
   "cell_type": "code",
   "execution_count": null,
   "metadata": {},
   "outputs": [],
   "source": [
    "reco = result.groupby(\n",
    "    'session').agg(pl.col('aid'))\n",
    "reco_clicks = reco.select([(pl.col('session').cast(str) + pl.lit(f'_clicks')).alias('session_type'), pl.col(\n",
    "            'aid').apply(lambda x: ' '.join([str(i) for i in x[:20]])).alias('labels')])\n",
    "\n",
    "reco_carts = reco_clicks.with_column(pl.col('session_type').str.replace('clicks', 'carts'))\n",
    "reco_orders = reco_clicks.with_column(pl.col('session_type').str.replace('clicks', 'orders'))\n",
    "reco_fin = pl.concat([reco_clicks, reco_carts, reco_orders])\n",
    "\n",
    "reco_fin.write_csv('bpr_test.csv')\n",
    "scores = evaluate(f'../data/raw/valid2__test_labels.jsonl', 'bpr_test.csv')"
   ]
  },
  {
   "cell_type": "code",
   "execution_count": null,
   "metadata": {},
   "outputs": [],
   "source": []
  }
 ],
 "metadata": {
  "kernelspec": {
   "display_name": "Python 3.10.2 ('otto-b5t49Yky')",
   "language": "python",
   "name": "python3"
  },
  "language_info": {
   "codemirror_mode": {
    "name": "ipython",
    "version": 3
   },
   "file_extension": ".py",
   "mimetype": "text/x-python",
   "name": "python",
   "nbconvert_exporter": "python",
   "pygments_lexer": "ipython3",
   "version": "3.10.2"
  },
  "vscode": {
   "interpreter": {
    "hash": "90907e25e2c91d7e55dc160a3bd778301fae149c068c46e7a935ad9cd183cf1b"
   }
  }
 },
 "nbformat": 4,
 "nbformat_minor": 4
}
